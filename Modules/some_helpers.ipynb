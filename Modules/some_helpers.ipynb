{
 "cells": [
  {
   "cell_type": "markdown",
   "metadata": {},
   "source": [
    "# Include everythere"
   ]
  },
  {
   "cell_type": "code",
   "execution_count": 2,
   "metadata": {},
   "outputs": [],
   "source": [
    "# -*- coding: utf-8 -*-\n",
    "from __future__ import print_function    # (at top of module)\n",
    "import os, sys\n",
    "import argparse\n",
    "import pprint\n",
    "import tempfile\n",
    "import subprocess\n",
    "import timeit\n",
    "import shutil\n",
    "import datetime\n",
    "from subprocess import check_output, call\n",
    "\n",
    "# Python 2 and 3:\n",
    "\n",
    "pp = pprint.PrettyPrinter(indent=4)\n",
    "\n",
    "def critical(message):\n",
    "    print(message)\n",
    "    exit(1)\n",
    "def warning(message):\n",
    "    print(message)\n",
    "    \n",
    "class VerboseHelper():\n",
    "    verbose_flag = False\n",
    "    @staticmethod\n",
    "    def info(message):\n",
    "        if VerboseHelper.verbose_flag:\n",
    "            print(message)\n",
    "def verbose(message):\n",
    "    VerboseHelper.info(message)\n",
    "    \n",
    "def execute(*args, **options):\n",
    "    ret_code = call(*args, **dict(options, shell = True))\n",
    "    if ret_code:\n",
    "        raise RuntimeWarning('operation failed {}'.format(str(*args) + ' ' + str(dict(**options))))\n",
    "    return\n",
    "    process = subprocess.Popen(*args, **options, stdout=subprocess.PIPE, stderr=subprocess.STDOUT)\n",
    "\n",
    "    # Poll process for new output until finished\n",
    "    while True:\n",
    "        nextline = process.stdout.readline()\n",
    "        if nextline == '' and process.poll() is not None:\n",
    "            break\n",
    "        sys.stdout.write(nextline)\n",
    "        sys.stdout.flush()\n",
    "\n",
    "    output = process.communicate()[0]\n",
    "    exitCode = process.returncode\n",
    "\n",
    "    if (exitCode == 0):\n",
    "        return output\n",
    "    else:\n",
    "        raise ProcessException(command, exitCode, output)\n",
    "def find_existent(*args):\n",
    "    for d in list(args):\n",
    "        if os.path.exists(d):\n",
    "            return d\n",
    "    # else not exists\n",
    "    raise FileExistsError(str(list(args)))\n",
    "    return ''\n",
    "    "
   ]
  }
 ],
 "metadata": {
  "kernelspec": {
   "display_name": "Python 3",
   "language": "python",
   "name": "python3"
  },
  "language_info": {
   "codemirror_mode": {
    "name": "ipython",
    "version": 3
   },
   "file_extension": ".py",
   "mimetype": "text/x-python",
   "name": "python",
   "nbconvert_exporter": "python",
   "pygments_lexer": "ipython3",
   "version": "3.6.6"
  }
 },
 "nbformat": 4,
 "nbformat_minor": 1
}
